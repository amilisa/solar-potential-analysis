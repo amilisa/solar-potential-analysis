{
 "cells": [
  {
   "cell_type": "code",
   "execution_count": 237,
   "metadata": {},
   "outputs": [],
   "source": [
    "import pandas as pd\n",
    "from matplotlib import pyplot as plt\n",
    "\n",
    "import numpy as np\n",
    "import seaborn as sns\n",
    "\n",
    "from consts import *\n",
    "import utils\n",
    "from sklearn.metrics import mean_squared_error, mean_absolute_percentage_error\n",
    "import ast\n",
    "import pvgis_requests_processing\n"
   ]
  },
  {
   "cell_type": "code",
   "execution_count": 238,
   "metadata": {},
   "outputs": [],
   "source": [
    "estimated_production_by_building = pd.read_csv(BUILDINGS_MAPPED_PATH)\n",
    "roofs_data = pd.read_csv(RECALCULATED_ROOFS_PATH)"
   ]
  },
  {
   "attachments": {},
   "cell_type": "markdown",
   "metadata": {},
   "source": [
    "### Cleaning"
   ]
  },
  {
   "attachments": {},
   "cell_type": "markdown",
   "metadata": {},
   "source": [
    "#### Cleaning buildings"
   ]
  },
  {
   "cell_type": "code",
   "execution_count": 239,
   "metadata": {},
   "outputs": [],
   "source": [
    "roofs_data[ETAK_ID] = roofs_data[ETAK_ID].astype(str)\n",
    "estimated_production_by_building[ETAK_ID] = estimated_production_by_building[ETAK_ID].astype(str)\n",
    "estimated_production_by_building[\"ehr_code\"] = estimated_production_by_building[\"ehr_code\"].astype(str)\n"
   ]
  },
  {
   "cell_type": "code",
   "execution_count": 240,
   "metadata": {},
   "outputs": [
    {
     "data": {
      "text/html": [
       "<div>\n",
       "<style scoped>\n",
       "    .dataframe tbody tr th:only-of-type {\n",
       "        vertical-align: middle;\n",
       "    }\n",
       "\n",
       "    .dataframe tbody tr th {\n",
       "        vertical-align: top;\n",
       "    }\n",
       "\n",
       "    .dataframe thead th {\n",
       "        text-align: right;\n",
       "    }\n",
       "</style>\n",
       "<table border=\"1\" class=\"dataframe\">\n",
       "  <thead>\n",
       "    <tr style=\"text-align: right;\">\n",
       "      <th></th>\n",
       "      <th>etak_id</th>\n",
       "      <th>lat</th>\n",
       "      <th>lon</th>\n",
       "      <th>total_roof_area</th>\n",
       "      <th>district</th>\n",
       "      <th>annual_kwh</th>\n",
       "      <th>pv_area_m2</th>\n",
       "      <th>annual_kwh/pv_m2</th>\n",
       "      <th>Jan_kwh</th>\n",
       "      <th>Feb_kwh</th>\n",
       "      <th>...</th>\n",
       "      <th>energy_label</th>\n",
       "      <th>assembly</th>\n",
       "      <th>business</th>\n",
       "      <th>educational</th>\n",
       "      <th>industrial</th>\n",
       "      <th>institutional</th>\n",
       "      <th>mercantile</th>\n",
       "      <th>other</th>\n",
       "      <th>residential</th>\n",
       "      <th>storage</th>\n",
       "    </tr>\n",
       "  </thead>\n",
       "  <tbody>\n",
       "    <tr>\n",
       "      <th>0</th>\n",
       "      <td>7106760</td>\n",
       "      <td>58.345708</td>\n",
       "      <td>26.723822</td>\n",
       "      <td>26.20</td>\n",
       "      <td>Ropka tööstuse</td>\n",
       "      <td>5242.83</td>\n",
       "      <td>20.960</td>\n",
       "      <td>250.135019</td>\n",
       "      <td>120.03</td>\n",
       "      <td>267.37</td>\n",
       "      <td>...</td>\n",
       "      <td>NaN</td>\n",
       "      <td>NaN</td>\n",
       "      <td>NaN</td>\n",
       "      <td>NaN</td>\n",
       "      <td>NaN</td>\n",
       "      <td>NaN</td>\n",
       "      <td>NaN</td>\n",
       "      <td>NaN</td>\n",
       "      <td>NaN</td>\n",
       "      <td>NaN</td>\n",
       "    </tr>\n",
       "    <tr>\n",
       "      <th>1</th>\n",
       "      <td>728449</td>\n",
       "      <td>58.354539</td>\n",
       "      <td>26.727600</td>\n",
       "      <td>34.22</td>\n",
       "      <td>Ropka</td>\n",
       "      <td>6839.15</td>\n",
       "      <td>27.376</td>\n",
       "      <td>249.822838</td>\n",
       "      <td>142.16</td>\n",
       "      <td>345.88</td>\n",
       "      <td>...</td>\n",
       "      <td>NaN</td>\n",
       "      <td>NaN</td>\n",
       "      <td>NaN</td>\n",
       "      <td>NaN</td>\n",
       "      <td>NaN</td>\n",
       "      <td>NaN</td>\n",
       "      <td>NaN</td>\n",
       "      <td>NaN</td>\n",
       "      <td>NaN</td>\n",
       "      <td>NaN</td>\n",
       "    </tr>\n",
       "    <tr>\n",
       "      <th>2</th>\n",
       "      <td>737756</td>\n",
       "      <td>58.357790</td>\n",
       "      <td>26.790659</td>\n",
       "      <td>204.24</td>\n",
       "      <td>Ihaste</td>\n",
       "      <td>31988.55</td>\n",
       "      <td>163.392</td>\n",
       "      <td>195.777945</td>\n",
       "      <td>398.07</td>\n",
       "      <td>1080.68</td>\n",
       "      <td>...</td>\n",
       "      <td>NaN</td>\n",
       "      <td>0.0</td>\n",
       "      <td>0.0</td>\n",
       "      <td>0.0</td>\n",
       "      <td>0.0</td>\n",
       "      <td>0.0</td>\n",
       "      <td>0.0</td>\n",
       "      <td>0.0</td>\n",
       "      <td>0.751773</td>\n",
       "      <td>0.0</td>\n",
       "    </tr>\n",
       "    <tr>\n",
       "      <th>3</th>\n",
       "      <td>710836</td>\n",
       "      <td>58.367784</td>\n",
       "      <td>26.729952</td>\n",
       "      <td>32.82</td>\n",
       "      <td>Karlova</td>\n",
       "      <td>6561.06</td>\n",
       "      <td>26.256</td>\n",
       "      <td>249.888026</td>\n",
       "      <td>136.53</td>\n",
       "      <td>331.96</td>\n",
       "      <td>...</td>\n",
       "      <td>NaN</td>\n",
       "      <td>NaN</td>\n",
       "      <td>NaN</td>\n",
       "      <td>NaN</td>\n",
       "      <td>NaN</td>\n",
       "      <td>NaN</td>\n",
       "      <td>NaN</td>\n",
       "      <td>NaN</td>\n",
       "      <td>NaN</td>\n",
       "      <td>NaN</td>\n",
       "    </tr>\n",
       "    <tr>\n",
       "      <th>4</th>\n",
       "      <td>726205</td>\n",
       "      <td>58.352388</td>\n",
       "      <td>26.717920</td>\n",
       "      <td>19.45</td>\n",
       "      <td>Ropka</td>\n",
       "      <td>2701.48</td>\n",
       "      <td>15.560</td>\n",
       "      <td>173.616967</td>\n",
       "      <td>20.05</td>\n",
       "      <td>69.17</td>\n",
       "      <td>...</td>\n",
       "      <td>NaN</td>\n",
       "      <td>NaN</td>\n",
       "      <td>NaN</td>\n",
       "      <td>NaN</td>\n",
       "      <td>NaN</td>\n",
       "      <td>NaN</td>\n",
       "      <td>NaN</td>\n",
       "      <td>NaN</td>\n",
       "      <td>NaN</td>\n",
       "      <td>NaN</td>\n",
       "    </tr>\n",
       "  </tbody>\n",
       "</table>\n",
       "<p>5 rows × 50 columns</p>\n",
       "</div>"
      ],
      "text/plain": [
       "   etak_id        lat        lon  total_roof_area        district  annual_kwh  \\\n",
       "0  7106760  58.345708  26.723822            26.20  Ropka tööstuse     5242.83   \n",
       "1   728449  58.354539  26.727600            34.22           Ropka     6839.15   \n",
       "2   737756  58.357790  26.790659           204.24          Ihaste    31988.55   \n",
       "3   710836  58.367784  26.729952            32.82         Karlova     6561.06   \n",
       "4   726205  58.352388  26.717920            19.45           Ropka     2701.48   \n",
       "\n",
       "   pv_area_m2  annual_kwh/pv_m2  Jan_kwh  Feb_kwh  ...  energy_label  \\\n",
       "0      20.960        250.135019   120.03   267.37  ...           NaN   \n",
       "1      27.376        249.822838   142.16   345.88  ...           NaN   \n",
       "2     163.392        195.777945   398.07  1080.68  ...           NaN   \n",
       "3      26.256        249.888026   136.53   331.96  ...           NaN   \n",
       "4      15.560        173.616967    20.05    69.17  ...           NaN   \n",
       "\n",
       "   assembly  business  educational  industrial  institutional  mercantile  \\\n",
       "0       NaN       NaN          NaN         NaN            NaN         NaN   \n",
       "1       NaN       NaN          NaN         NaN            NaN         NaN   \n",
       "2       0.0       0.0          0.0         0.0            0.0         0.0   \n",
       "3       NaN       NaN          NaN         NaN            NaN         NaN   \n",
       "4       NaN       NaN          NaN         NaN            NaN         NaN   \n",
       "\n",
       "   other  residential  storage  \n",
       "0    NaN          NaN      NaN  \n",
       "1    NaN          NaN      NaN  \n",
       "2    0.0     0.751773      0.0  \n",
       "3    NaN          NaN      NaN  \n",
       "4    NaN          NaN      NaN  \n",
       "\n",
       "[5 rows x 50 columns]"
      ]
     },
     "execution_count": 240,
     "metadata": {},
     "output_type": "execute_result"
    }
   ],
   "source": [
    "estimated_production_by_building.head()"
   ]
  },
  {
   "cell_type": "code",
   "execution_count": 241,
   "metadata": {},
   "outputs": [
    {
     "data": {
      "text/html": [
       "<div>\n",
       "<style scoped>\n",
       "    .dataframe tbody tr th:only-of-type {\n",
       "        vertical-align: middle;\n",
       "    }\n",
       "\n",
       "    .dataframe tbody tr th {\n",
       "        vertical-align: top;\n",
       "    }\n",
       "\n",
       "    .dataframe thead th {\n",
       "        text-align: right;\n",
       "    }\n",
       "</style>\n",
       "<table border=\"1\" class=\"dataframe\">\n",
       "  <thead>\n",
       "    <tr style=\"text-align: right;\">\n",
       "      <th></th>\n",
       "      <th>total_roof_area</th>\n",
       "      <th>year</th>\n",
       "      <th>total_area</th>\n",
       "      <th>floors</th>\n",
       "    </tr>\n",
       "  </thead>\n",
       "  <tbody>\n",
       "    <tr>\n",
       "      <th>count</th>\n",
       "      <td>20729.000000</td>\n",
       "      <td>11720.000000</td>\n",
       "      <td>13677.000000</td>\n",
       "      <td>13649.000000</td>\n",
       "    </tr>\n",
       "    <tr>\n",
       "      <th>mean</th>\n",
       "      <td>243.135264</td>\n",
       "      <td>1977.838823</td>\n",
       "      <td>566.350274</td>\n",
       "      <td>1.830171</td>\n",
       "    </tr>\n",
       "    <tr>\n",
       "      <th>std</th>\n",
       "      <td>698.534630</td>\n",
       "      <td>51.934160</td>\n",
       "      <td>1814.047409</td>\n",
       "      <td>1.097875</td>\n",
       "    </tr>\n",
       "    <tr>\n",
       "      <th>min</th>\n",
       "      <td>2.020000</td>\n",
       "      <td>0.000000</td>\n",
       "      <td>0.000000</td>\n",
       "      <td>1.000000</td>\n",
       "    </tr>\n",
       "    <tr>\n",
       "      <th>25%</th>\n",
       "      <td>48.030000</td>\n",
       "      <td>1977.000000</td>\n",
       "      <td>102.800000</td>\n",
       "      <td>1.000000</td>\n",
       "    </tr>\n",
       "    <tr>\n",
       "      <th>50%</th>\n",
       "      <td>134.920000</td>\n",
       "      <td>1977.000000</td>\n",
       "      <td>191.900000</td>\n",
       "      <td>2.000000</td>\n",
       "    </tr>\n",
       "    <tr>\n",
       "      <th>75%</th>\n",
       "      <td>218.400000</td>\n",
       "      <td>1995.000000</td>\n",
       "      <td>333.700000</td>\n",
       "      <td>2.000000</td>\n",
       "    </tr>\n",
       "    <tr>\n",
       "      <th>max</th>\n",
       "      <td>36618.550000</td>\n",
       "      <td>2022.000000</td>\n",
       "      <td>109398.100000</td>\n",
       "      <td>23.000000</td>\n",
       "    </tr>\n",
       "  </tbody>\n",
       "</table>\n",
       "</div>"
      ],
      "text/plain": [
       "       total_roof_area          year     total_area        floors\n",
       "count     20729.000000  11720.000000   13677.000000  13649.000000\n",
       "mean        243.135264   1977.838823     566.350274      1.830171\n",
       "std         698.534630     51.934160    1814.047409      1.097875\n",
       "min           2.020000      0.000000       0.000000      1.000000\n",
       "25%          48.030000   1977.000000     102.800000      1.000000\n",
       "50%         134.920000   1977.000000     191.900000      2.000000\n",
       "75%         218.400000   1995.000000     333.700000      2.000000\n",
       "max       36618.550000   2022.000000  109398.100000     23.000000"
      ]
     },
     "execution_count": 241,
     "metadata": {},
     "output_type": "execute_result"
    }
   ],
   "source": [
    "estimated_production_by_building[[TOTAL_ROOF_AREA, YEAR, 'total_area', 'floors']].describe()"
   ]
  },
  {
   "cell_type": "code",
   "execution_count": 242,
   "metadata": {},
   "outputs": [
    {
     "data": {
      "image/png": "[encoded data removed]",
      "text/plain": [
       "<Figure size 640x480 with 1 Axes>"
      ]
     },
     "metadata": {},
     "output_type": "display_data"
    }
   ],
   "source": [
    "estimated_production_by_building[TOTAL_ROOF_AREA].hist(bins=100)\n",
    "plt.xlabel(\"Building roof area\", fontsize=12)\n",
    "plt.ylabel(\"Frequency\", fontsize=12)\n",
    "plt.title(\"Buildings roof area distribution\", fontsize=14)\n",
    "plt.show()"
   ]
  },
  {
   "cell_type": "code",
   "execution_count": 243,
   "metadata": {},
   "outputs": [
    {
     "name": "stdout",
     "output_type": "stream",
     "text": [
      "<class 'pandas.core.frame.DataFrame'>\n",
      "RangeIndex: 20729 entries, 0 to 20728\n",
      "Data columns (total 4 columns):\n",
      " #   Column           Non-Null Count  Dtype  \n",
      "---  ------           --------------  -----  \n",
      " 0   total_roof_area  20729 non-null  float64\n",
      " 1   year             11720 non-null  float64\n",
      " 2   total_area       13677 non-null  float64\n",
      " 3   floors           13649 non-null  float64\n",
      "dtypes: float64(4)\n",
      "memory usage: 647.9 KB\n"
     ]
    }
   ],
   "source": [
    "estimated_production_by_building[[TOTAL_ROOF_AREA, YEAR, 'total_area', 'floors']].info()"
   ]
  },
  {
   "cell_type": "code",
   "execution_count": 244,
   "metadata": {},
   "outputs": [],
   "source": [
    "estimated_production_by_building[\"name\"] = estimated_production_by_building[\"name\"].apply(lambda x: x.capitalize() if pd.notna(x) else x)\n",
    "estimated_production_by_building[\"type\"] = estimated_production_by_building[\"type\"].apply(lambda x: x.lower() if pd.notna(x) else x)\n"
   ]
  },
  {
   "cell_type": "code",
   "execution_count": 245,
   "metadata": {},
   "outputs": [
    {
     "data": {
      "text/plain": [
       "count     281.000000\n",
       "mean      220.551886\n",
       "std       471.397110\n",
       "min         8.410000\n",
       "25%        24.760000\n",
       "50%        42.020000\n",
       "75%       294.400000\n",
       "max      6482.400000\n",
       "Name: total_roof_area, dtype: float64"
      ]
     },
     "execution_count": 245,
     "metadata": {},
     "output_type": "execute_result"
    }
   ],
   "source": [
    "type_not_na = estimated_production_by_building[estimated_production_by_building[\"type\"].notna()]\n",
    "garages = type_not_na[type_not_na[\"type\"].str.contains(\"garaaž\", case=False)]\n",
    "garages[TOTAL_ROOF_AREA].describe()\n"
   ]
  },
  {
   "cell_type": "code",
   "execution_count": 246,
   "metadata": {},
   "outputs": [
    {
     "data": {
      "text/plain": [
       "(281, 50)"
      ]
     },
     "execution_count": 246,
     "metadata": {},
     "output_type": "execute_result"
    }
   ],
   "source": [
    "garages.shape"
   ]
  },
  {
   "cell_type": "code",
   "execution_count": 247,
   "metadata": {},
   "outputs": [
    {
     "data": {
      "text/plain": [
       "name\n",
       "Garaaž                 58\n",
       "Garaažid               13\n",
       "Grupigaraaži garaaž     6\n",
       "Garaaz^                 6\n",
       "Garaažiboks             3\n",
       "                       ..\n",
       "Garaažid(13 boksi)      1\n",
       "Garaaž nr 4             1\n",
       "Garaažid(24 boksi)      1\n",
       "Garaaž boks nr 2        1\n",
       "Abihoone                1\n",
       "Name: count, Length: 180, dtype: int64"
      ]
     },
     "execution_count": 247,
     "metadata": {},
     "output_type": "execute_result"
    }
   ],
   "source": [
    "garages[\"name\"].value_counts()\n"
   ]
  },
  {
   "cell_type": "code",
   "execution_count": 248,
   "metadata": {},
   "outputs": [
    {
     "data": {
      "text/plain": [
       "count     58.000000\n",
       "mean      85.954483\n",
       "std      155.927680\n",
       "min        8.410000\n",
       "25%       24.005000\n",
       "50%       27.830000\n",
       "75%       56.435000\n",
       "max      895.180000\n",
       "Name: total_roof_area, dtype: float64"
      ]
     },
     "execution_count": 248,
     "metadata": {},
     "output_type": "execute_result"
    }
   ],
   "source": [
    "garages[garages[\"name\"] == \"Garaaž\"][TOTAL_ROOF_AREA].describe()\n"
   ]
  },
  {
   "cell_type": "code",
   "execution_count": 249,
   "metadata": {},
   "outputs": [
    {
     "data": {
      "text/plain": [
       "count    44.000000\n",
       "mean     28.194545\n",
       "std      10.598395\n",
       "min       8.410000\n",
       "25%      22.957500\n",
       "50%      25.210000\n",
       "75%      29.312500\n",
       "max      56.750000\n",
       "Name: total_roof_area, dtype: float64"
      ]
     },
     "execution_count": 249,
     "metadata": {},
     "output_type": "execute_result"
    }
   ],
   "source": [
    "garages_75_percentile = garages[(garages[\"name\"] == \"Garaaž\") & (garages[TOTAL_ROOF_AREA] < 57)][TOTAL_ROOF_AREA]\n",
    "garages_75_percentile.describe()\n"
   ]
  },
  {
   "cell_type": "code",
   "execution_count": 250,
   "metadata": {},
   "outputs": [],
   "source": [
    "mean_garage_roof = round(garages_75_percentile.mean())"
   ]
  },
  {
   "cell_type": "code",
   "execution_count": 251,
   "metadata": {},
   "outputs": [
    {
     "data": {
      "text/plain": [
       "28"
      ]
     },
     "execution_count": 251,
     "metadata": {},
     "output_type": "execute_result"
    }
   ],
   "source": [
    "mean_garage_roof"
   ]
  },
  {
   "cell_type": "code",
   "execution_count": 252,
   "metadata": {},
   "outputs": [
    {
     "data": {
      "text/plain": [
       "count    13394.000000\n",
       "mean       329.816406\n",
       "std        839.023302\n",
       "min          2.610000\n",
       "25%        128.115000\n",
       "50%        179.580000\n",
       "75%        271.532500\n",
       "max      36618.550000\n",
       "Name: total_roof_area, dtype: float64"
      ]
     },
     "execution_count": 252,
     "metadata": {},
     "output_type": "execute_result"
    }
   ],
   "source": [
    "other_buildings = type_not_na[~type_not_na[\"type\"].str.contains(\"garaaž\", case=False)]\n",
    "other_buildings[TOTAL_ROOF_AREA].describe()"
   ]
  },
  {
   "cell_type": "code",
   "execution_count": 253,
   "metadata": {},
   "outputs": [
    {
     "data": {
      "text/plain": [
       "(20729, 50)"
      ]
     },
     "execution_count": 253,
     "metadata": {},
     "output_type": "execute_result"
    }
   ],
   "source": [
    "estimated_production_by_building.shape"
   ]
  },
  {
   "cell_type": "code",
   "execution_count": 254,
   "metadata": {},
   "outputs": [
    {
     "data": {
      "text/plain": [
       "(20448, 50)"
      ]
     },
     "execution_count": 254,
     "metadata": {},
     "output_type": "execute_result"
    }
   ],
   "source": [
    "estimated_production_by_building_filtered = estimated_production_by_building[~estimated_production_by_building[\"type\"].str.contains(\"garaaž\", case=False, na=False)]\n",
    "estimated_production_by_building_filtered.shape\n"
   ]
  },
  {
   "cell_type": "code",
   "execution_count": 255,
   "metadata": {},
   "outputs": [
    {
     "data": {
      "text/plain": [
       "(17975, 50)"
      ]
     },
     "execution_count": 255,
     "metadata": {},
     "output_type": "execute_result"
    }
   ],
   "source": [
    "estimated_production_by_building_filtered = estimated_production_by_building_filtered[(estimated_production_by_building_filtered[TOTAL_ROOF_AREA] > mean_garage_roof)]\n",
    "estimated_production_by_building_filtered.shape"
   ]
  },
  {
   "cell_type": "code",
   "execution_count": 256,
   "metadata": {},
   "outputs": [],
   "source": [
    "# estimated_production_by_building_filtered.to_csv(BUILDINGS_DIR.joinpath(\"buildings_without_garages.csv\"), index=False)"
   ]
  },
  {
   "cell_type": "code",
   "execution_count": 257,
   "metadata": {},
   "outputs": [
    {
     "data": {
      "text/html": [
       "<div>\n",
       "<style scoped>\n",
       "    .dataframe tbody tr th:only-of-type {\n",
       "        vertical-align: middle;\n",
       "    }\n",
       "\n",
       "    .dataframe tbody tr th {\n",
       "        vertical-align: top;\n",
       "    }\n",
       "\n",
       "    .dataframe thead th {\n",
       "        text-align: right;\n",
       "    }\n",
       "</style>\n",
       "<table border=\"1\" class=\"dataframe\">\n",
       "  <thead>\n",
       "    <tr style=\"text-align: right;\">\n",
       "      <th></th>\n",
       "      <th>total_roof_area</th>\n",
       "      <th>year</th>\n",
       "      <th>total_area</th>\n",
       "    </tr>\n",
       "  </thead>\n",
       "  <tbody>\n",
       "    <tr>\n",
       "      <th>count</th>\n",
       "      <td>17975.000000</td>\n",
       "      <td>11382.000000</td>\n",
       "      <td>13047.000000</td>\n",
       "    </tr>\n",
       "    <tr>\n",
       "      <th>mean</th>\n",
       "      <td>273.707678</td>\n",
       "      <td>1977.634511</td>\n",
       "      <td>586.605526</td>\n",
       "    </tr>\n",
       "    <tr>\n",
       "      <th>std</th>\n",
       "      <td>742.745613</td>\n",
       "      <td>49.197989</td>\n",
       "      <td>1852.083862</td>\n",
       "    </tr>\n",
       "    <tr>\n",
       "      <th>min</th>\n",
       "      <td>28.020000</td>\n",
       "      <td>0.000000</td>\n",
       "      <td>0.000000</td>\n",
       "    </tr>\n",
       "    <tr>\n",
       "      <th>25%</th>\n",
       "      <td>75.835000</td>\n",
       "      <td>1977.000000</td>\n",
       "      <td>111.400000</td>\n",
       "    </tr>\n",
       "    <tr>\n",
       "      <th>50%</th>\n",
       "      <td>151.530000</td>\n",
       "      <td>1977.000000</td>\n",
       "      <td>198.200000</td>\n",
       "    </tr>\n",
       "    <tr>\n",
       "      <th>75%</th>\n",
       "      <td>236.495000</td>\n",
       "      <td>1995.000000</td>\n",
       "      <td>341.750000</td>\n",
       "    </tr>\n",
       "    <tr>\n",
       "      <th>max</th>\n",
       "      <td>36618.550000</td>\n",
       "      <td>2022.000000</td>\n",
       "      <td>109398.100000</td>\n",
       "    </tr>\n",
       "  </tbody>\n",
       "</table>\n",
       "</div>"
      ],
      "text/plain": [
       "       total_roof_area          year     total_area\n",
       "count     17975.000000  11382.000000   13047.000000\n",
       "mean        273.707678   1977.634511     586.605526\n",
       "std         742.745613     49.197989    1852.083862\n",
       "min          28.020000      0.000000       0.000000\n",
       "25%          75.835000   1977.000000     111.400000\n",
       "50%         151.530000   1977.000000     198.200000\n",
       "75%         236.495000   1995.000000     341.750000\n",
       "max       36618.550000   2022.000000  109398.100000"
      ]
     },
     "execution_count": 257,
     "metadata": {},
     "output_type": "execute_result"
    }
   ],
   "source": [
    "estimated_production_by_building_filtered[[TOTAL_ROOF_AREA, YEAR, 'total_area']].describe()"
   ]
  },
  {
   "cell_type": "code",
   "execution_count": 258,
   "metadata": {},
   "outputs": [
    {
     "data": {
      "text/html": [
       "<div>\n",
       "<style scoped>\n",
       "    .dataframe tbody tr th:only-of-type {\n",
       "        vertical-align: middle;\n",
       "    }\n",
       "\n",
       "    .dataframe tbody tr th {\n",
       "        vertical-align: top;\n",
       "    }\n",
       "\n",
       "    .dataframe thead th {\n",
       "        text-align: right;\n",
       "    }\n",
       "</style>\n",
       "<table border=\"1\" class=\"dataframe\">\n",
       "  <thead>\n",
       "    <tr style=\"text-align: right;\">\n",
       "      <th></th>\n",
       "      <th>etak_id</th>\n",
       "      <th>lat</th>\n",
       "      <th>lon</th>\n",
       "      <th>total_roof_area</th>\n",
       "      <th>district</th>\n",
       "      <th>annual_kwh</th>\n",
       "      <th>pv_area_m2</th>\n",
       "      <th>annual_kwh/pv_m2</th>\n",
       "      <th>Jan_kwh</th>\n",
       "      <th>Feb_kwh</th>\n",
       "      <th>...</th>\n",
       "      <th>energy_label</th>\n",
       "      <th>assembly</th>\n",
       "      <th>business</th>\n",
       "      <th>educational</th>\n",
       "      <th>industrial</th>\n",
       "      <th>institutional</th>\n",
       "      <th>mercantile</th>\n",
       "      <th>other</th>\n",
       "      <th>residential</th>\n",
       "      <th>storage</th>\n",
       "    </tr>\n",
       "  </thead>\n",
       "  <tbody>\n",
       "    <tr>\n",
       "      <th>17904</th>\n",
       "      <td>711693</td>\n",
       "      <td>58.363335</td>\n",
       "      <td>26.703656</td>\n",
       "      <td>134.13</td>\n",
       "      <td>Tammelinna</td>\n",
       "      <td>19298.23</td>\n",
       "      <td>107.304</td>\n",
       "      <td>179.846324</td>\n",
       "      <td>228.01</td>\n",
       "      <td>606.5</td>\n",
       "      <td>...</td>\n",
       "      <td>NaN</td>\n",
       "      <td>NaN</td>\n",
       "      <td>NaN</td>\n",
       "      <td>NaN</td>\n",
       "      <td>NaN</td>\n",
       "      <td>NaN</td>\n",
       "      <td>NaN</td>\n",
       "      <td>NaN</td>\n",
       "      <td>NaN</td>\n",
       "      <td>NaN</td>\n",
       "    </tr>\n",
       "  </tbody>\n",
       "</table>\n",
       "<p>1 rows × 50 columns</p>\n",
       "</div>"
      ],
      "text/plain": [
       "      etak_id        lat        lon  total_roof_area    district  annual_kwh  \\\n",
       "17904  711693  58.363335  26.703656           134.13  Tammelinna    19298.23   \n",
       "\n",
       "       pv_area_m2  annual_kwh/pv_m2  Jan_kwh  Feb_kwh  ...  energy_label  \\\n",
       "17904     107.304        179.846324   228.01    606.5  ...           NaN   \n",
       "\n",
       "       assembly  business  educational  industrial  institutional  mercantile  \\\n",
       "17904       NaN       NaN          NaN         NaN            NaN         NaN   \n",
       "\n",
       "       other  residential  storage  \n",
       "17904    NaN          NaN      NaN  \n",
       "\n",
       "[1 rows x 50 columns]"
      ]
     },
     "execution_count": 258,
     "metadata": {},
     "output_type": "execute_result"
    }
   ],
   "source": [
    "estimated_production_by_building_filtered[estimated_production_by_building_filtered['total_area'] == 0]"
   ]
  },
  {
   "cell_type": "code",
   "execution_count": 259,
   "metadata": {},
   "outputs": [],
   "source": [
    "estimated_production_by_building_filtered.loc[estimated_production_by_building_filtered[YEAR] == 0, YEAR] = np.nan"
   ]
  },
  {
   "cell_type": "code",
   "execution_count": 260,
   "metadata": {},
   "outputs": [],
   "source": [
    "estimated_production_by_building_filtered = estimated_production_by_building_filtered[estimated_production_by_building_filtered['total_area'] != 0]"
   ]
  },
  {
   "cell_type": "code",
   "execution_count": 261,
   "metadata": {},
   "outputs": [
    {
     "data": {
      "text/html": [
       "<div>\n",
       "<style scoped>\n",
       "    .dataframe tbody tr th:only-of-type {\n",
       "        vertical-align: middle;\n",
       "    }\n",
       "\n",
       "    .dataframe tbody tr th {\n",
       "        vertical-align: top;\n",
       "    }\n",
       "\n",
       "    .dataframe thead th {\n",
       "        text-align: right;\n",
       "    }\n",
       "</style>\n",
       "<table border=\"1\" class=\"dataframe\">\n",
       "  <thead>\n",
       "    <tr style=\"text-align: right;\">\n",
       "      <th></th>\n",
       "      <th>total_roof_area</th>\n",
       "      <th>year</th>\n",
       "      <th>total_area</th>\n",
       "    </tr>\n",
       "  </thead>\n",
       "  <tbody>\n",
       "    <tr>\n",
       "      <th>count</th>\n",
       "      <td>17974.000000</td>\n",
       "      <td>11376.000000</td>\n",
       "      <td>13046.000000</td>\n",
       "    </tr>\n",
       "    <tr>\n",
       "      <th>mean</th>\n",
       "      <td>273.715443</td>\n",
       "      <td>1978.502198</td>\n",
       "      <td>586.650491</td>\n",
       "    </tr>\n",
       "    <tr>\n",
       "      <th>std</th>\n",
       "      <td>742.765546</td>\n",
       "      <td>26.491540</td>\n",
       "      <td>1852.147727</td>\n",
       "    </tr>\n",
       "    <tr>\n",
       "      <th>min</th>\n",
       "      <td>28.020000</td>\n",
       "      <td>1323.000000</td>\n",
       "      <td>2.100000</td>\n",
       "    </tr>\n",
       "    <tr>\n",
       "      <th>25%</th>\n",
       "      <td>75.817500</td>\n",
       "      <td>1977.000000</td>\n",
       "      <td>111.400000</td>\n",
       "    </tr>\n",
       "    <tr>\n",
       "      <th>50%</th>\n",
       "      <td>151.545000</td>\n",
       "      <td>1977.000000</td>\n",
       "      <td>198.200000</td>\n",
       "    </tr>\n",
       "    <tr>\n",
       "      <th>75%</th>\n",
       "      <td>236.502500</td>\n",
       "      <td>1995.000000</td>\n",
       "      <td>341.775000</td>\n",
       "    </tr>\n",
       "    <tr>\n",
       "      <th>max</th>\n",
       "      <td>36618.550000</td>\n",
       "      <td>2022.000000</td>\n",
       "      <td>109398.100000</td>\n",
       "    </tr>\n",
       "  </tbody>\n",
       "</table>\n",
       "</div>"
      ],
      "text/plain": [
       "       total_roof_area          year     total_area\n",
       "count     17974.000000  11376.000000   13046.000000\n",
       "mean        273.715443   1978.502198     586.650491\n",
       "std         742.765546     26.491540    1852.147727\n",
       "min          28.020000   1323.000000       2.100000\n",
       "25%          75.817500   1977.000000     111.400000\n",
       "50%         151.545000   1977.000000     198.200000\n",
       "75%         236.502500   1995.000000     341.775000\n",
       "max       36618.550000   2022.000000  109398.100000"
      ]
     },
     "execution_count": 261,
     "metadata": {},
     "output_type": "execute_result"
    }
   ],
   "source": [
    "estimated_production_by_building_filtered[[TOTAL_ROOF_AREA, YEAR, 'total_area']].describe()"
   ]
  },
  {
   "cell_type": "code",
   "execution_count": 262,
   "metadata": {},
   "outputs": [],
   "source": [
    "estimated_production_by_building_filtered = estimated_production_by_building_filtered[~(estimated_production_by_building_filtered['total_area'] < mean_garage_roof)]"
   ]
  },
  {
   "cell_type": "code",
   "execution_count": 263,
   "metadata": {},
   "outputs": [
    {
     "data": {
      "text/html": [
       "<div>\n",
       "<style scoped>\n",
       "    .dataframe tbody tr th:only-of-type {\n",
       "        vertical-align: middle;\n",
       "    }\n",
       "\n",
       "    .dataframe tbody tr th {\n",
       "        vertical-align: top;\n",
       "    }\n",
       "\n",
       "    .dataframe thead th {\n",
       "        text-align: right;\n",
       "    }\n",
       "</style>\n",
       "<table border=\"1\" class=\"dataframe\">\n",
       "  <thead>\n",
       "    <tr style=\"text-align: right;\">\n",
       "      <th></th>\n",
       "      <th>total_roof_area</th>\n",
       "      <th>year</th>\n",
       "      <th>total_area</th>\n",
       "    </tr>\n",
       "  </thead>\n",
       "  <tbody>\n",
       "    <tr>\n",
       "      <th>count</th>\n",
       "      <td>17562.000000</td>\n",
       "      <td>11176.000000</td>\n",
       "      <td>12634.000000</td>\n",
       "    </tr>\n",
       "    <tr>\n",
       "      <th>mean</th>\n",
       "      <td>279.031605</td>\n",
       "      <td>1978.364889</td>\n",
       "      <td>605.118482</td>\n",
       "    </tr>\n",
       "    <tr>\n",
       "      <th>std</th>\n",
       "      <td>750.593959</td>\n",
       "      <td>26.515806</td>\n",
       "      <td>1879.235740</td>\n",
       "    </tr>\n",
       "    <tr>\n",
       "      <th>min</th>\n",
       "      <td>28.020000</td>\n",
       "      <td>1323.000000</td>\n",
       "      <td>28.000000</td>\n",
       "    </tr>\n",
       "    <tr>\n",
       "      <th>25%</th>\n",
       "      <td>81.432500</td>\n",
       "      <td>1977.000000</td>\n",
       "      <td>119.525000</td>\n",
       "    </tr>\n",
       "    <tr>\n",
       "      <th>50%</th>\n",
       "      <td>154.245000</td>\n",
       "      <td>1977.000000</td>\n",
       "      <td>204.200000</td>\n",
       "    </tr>\n",
       "    <tr>\n",
       "      <th>75%</th>\n",
       "      <td>239.695000</td>\n",
       "      <td>1995.000000</td>\n",
       "      <td>353.425000</td>\n",
       "    </tr>\n",
       "    <tr>\n",
       "      <th>max</th>\n",
       "      <td>36618.550000</td>\n",
       "      <td>2022.000000</td>\n",
       "      <td>109398.100000</td>\n",
       "    </tr>\n",
       "  </tbody>\n",
       "</table>\n",
       "</div>"
      ],
      "text/plain": [
       "       total_roof_area          year     total_area\n",
       "count     17562.000000  11176.000000   12634.000000\n",
       "mean        279.031605   1978.364889     605.118482\n",
       "std         750.593959     26.515806    1879.235740\n",
       "min          28.020000   1323.000000      28.000000\n",
       "25%          81.432500   1977.000000     119.525000\n",
       "50%         154.245000   1977.000000     204.200000\n",
       "75%         239.695000   1995.000000     353.425000\n",
       "max       36618.550000   2022.000000  109398.100000"
      ]
     },
     "execution_count": 263,
     "metadata": {},
     "output_type": "execute_result"
    }
   ],
   "source": [
    "estimated_production_by_building_filtered[[TOTAL_ROOF_AREA, YEAR, 'total_area']].describe()"
   ]
  },
  {
   "cell_type": "code",
   "execution_count": 264,
   "metadata": {},
   "outputs": [
    {
     "data": {
      "text/plain": [
       "<Axes: >"
      ]
     },
     "execution_count": 264,
     "metadata": {},
     "output_type": "execute_result"
    },
    {
     "data": {
      "image/png": "[encoded data removed]",
      "text/plain": [
       "<Figure size 640x480 with 1 Axes>"
      ]
     },
     "metadata": {},
     "output_type": "display_data"
    }
   ],
   "source": [
    "estimated_production_by_building_filtered[YEAR].hist(bins=70)"
   ]
  },
  {
   "cell_type": "code",
   "execution_count": 265,
   "metadata": {},
   "outputs": [
    {
     "name": "stdout",
     "output_type": "stream",
     "text": [
      "The percentage of constructions built before 1940 is 0.11%.\n"
     ]
    }
   ],
   "source": [
    "print(f\"The percentage of constructions built before 1940 is {estimated_production_by_building_filtered[estimated_production_by_building_filtered[YEAR] < 1800].shape[0] / estimated_production_by_building_filtered.shape[0] * 100:.2f}%.\")"
   ]
  },
  {
   "cell_type": "code",
   "execution_count": 266,
   "metadata": {},
   "outputs": [],
   "source": [
    "estimated_production_by_building_filtered = estimated_production_by_building_filtered[~(estimated_production_by_building_filtered[YEAR] < 1800)]"
   ]
  },
  {
   "cell_type": "code",
   "execution_count": 267,
   "metadata": {},
   "outputs": [
    {
     "data": {
      "text/html": [
       "<div>\n",
       "<style scoped>\n",
       "    .dataframe tbody tr th:only-of-type {\n",
       "        vertical-align: middle;\n",
       "    }\n",
       "\n",
       "    .dataframe tbody tr th {\n",
       "        vertical-align: top;\n",
       "    }\n",
       "\n",
       "    .dataframe thead th {\n",
       "        text-align: right;\n",
       "    }\n",
       "</style>\n",
       "<table border=\"1\" class=\"dataframe\">\n",
       "  <thead>\n",
       "    <tr style=\"text-align: right;\">\n",
       "      <th></th>\n",
       "      <th>total_roof_area</th>\n",
       "      <th>year</th>\n",
       "      <th>total_area</th>\n",
       "    </tr>\n",
       "  </thead>\n",
       "  <tbody>\n",
       "    <tr>\n",
       "      <th>count</th>\n",
       "      <td>17543.000000</td>\n",
       "      <td>11157.000000</td>\n",
       "      <td>12615.000000</td>\n",
       "    </tr>\n",
       "    <tr>\n",
       "      <th>mean</th>\n",
       "      <td>278.734642</td>\n",
       "      <td>1978.786233</td>\n",
       "      <td>604.600032</td>\n",
       "    </tr>\n",
       "    <tr>\n",
       "      <th>std</th>\n",
       "      <td>750.855618</td>\n",
       "      <td>24.070805</td>\n",
       "      <td>1880.462842</td>\n",
       "    </tr>\n",
       "    <tr>\n",
       "      <th>min</th>\n",
       "      <td>28.020000</td>\n",
       "      <td>1802.000000</td>\n",
       "      <td>28.000000</td>\n",
       "    </tr>\n",
       "    <tr>\n",
       "      <th>25%</th>\n",
       "      <td>81.385000</td>\n",
       "      <td>1977.000000</td>\n",
       "      <td>119.450000</td>\n",
       "    </tr>\n",
       "    <tr>\n",
       "      <th>50%</th>\n",
       "      <td>154.130000</td>\n",
       "      <td>1977.000000</td>\n",
       "      <td>204.100000</td>\n",
       "    </tr>\n",
       "    <tr>\n",
       "      <th>75%</th>\n",
       "      <td>239.205000</td>\n",
       "      <td>1995.000000</td>\n",
       "      <td>352.100000</td>\n",
       "    </tr>\n",
       "    <tr>\n",
       "      <th>max</th>\n",
       "      <td>36618.550000</td>\n",
       "      <td>2022.000000</td>\n",
       "      <td>109398.100000</td>\n",
       "    </tr>\n",
       "  </tbody>\n",
       "</table>\n",
       "</div>"
      ],
      "text/plain": [
       "       total_roof_area          year     total_area\n",
       "count     17543.000000  11157.000000   12615.000000\n",
       "mean        278.734642   1978.786233     604.600032\n",
       "std         750.855618     24.070805    1880.462842\n",
       "min          28.020000   1802.000000      28.000000\n",
       "25%          81.385000   1977.000000     119.450000\n",
       "50%         154.130000   1977.000000     204.100000\n",
       "75%         239.205000   1995.000000     352.100000\n",
       "max       36618.550000   2022.000000  109398.100000"
      ]
     },
     "execution_count": 267,
     "metadata": {},
     "output_type": "execute_result"
    }
   ],
   "source": [
    "estimated_production_by_building_filtered[[TOTAL_ROOF_AREA, YEAR, 'total_area']].describe()"
   ]
  },
  {
   "cell_type": "code",
   "execution_count": 268,
   "metadata": {},
   "outputs": [
    {
     "data": {
      "text/plain": [
       "(17543,)"
      ]
     },
     "execution_count": 268,
     "metadata": {},
     "output_type": "execute_result"
    }
   ],
   "source": [
    "etak_ids_filtered = estimated_production_by_building_filtered[ETAK_ID].unique()\n",
    "etak_ids_filtered.shape"
   ]
  },
  {
   "cell_type": "code",
   "execution_count": 269,
   "metadata": {},
   "outputs": [
    {
     "data": {
      "text/plain": [
       "Index(['etak_id', 'lat', 'lon', 'total_roof_area', 'district', 'annual_kwh',\n",
       "       'pv_area_m2', 'annual_kwh/pv_m2', 'Jan_kwh', 'Feb_kwh', 'Mar_kwh',\n",
       "       'Apr_kwh', 'May_kwh', 'Jun_kwh', 'Jul_kwh', 'Aug_kwh', 'Sep_kwh',\n",
       "       'Oct_kwh', 'Nov_kwh', 'Dec_kwh', 'Jan_kwh/pv_m2', 'Feb_kwh/pv_m2',\n",
       "       'Mar_kwh/pv_m2', 'Apr_kwh/pv_m2', 'May_kwh/pv_m2', 'Jun_kwh/pv_m2',\n",
       "       'Jul_kwh/pv_m2', 'Aug_kwh/pv_m2', 'Sep_kwh/pv_m2', 'Oct_kwh/pv_m2',\n",
       "       'Nov_kwh/pv_m2', 'Dec_kwh/pv_m2', 'ehr_code', 'address_id', 'address',\n",
       "       'name', 'type', 'year', 'total_area', 'floors', 'energy_label',\n",
       "       'assembly', 'business', 'educational', 'industrial', 'institutional',\n",
       "       'mercantile', 'other', 'residential', 'storage'],\n",
       "      dtype='object')"
      ]
     },
     "execution_count": 269,
     "metadata": {},
     "output_type": "execute_result"
    }
   ],
   "source": [
    "estimated_production_by_building_filtered.columns"
   ]
  },
  {
   "cell_type": "code",
   "execution_count": 220,
   "metadata": {},
   "outputs": [],
   "source": [
    "estimated_production_by_building_filtered[[\n",
    "    ETAK_ID,\n",
    "    LAT,\n",
    "    LON, \n",
    "    TOTAL_ROOF_AREA,\n",
    "    DISTRICT,\n",
    "    'ehr_code',\n",
    "    'address_id',\n",
    "    ADDRESS, \n",
    "    'name',\n",
    "    'type',\n",
    "    YEAR, \n",
    "    'total_area',\n",
    "    'floors',\n",
    "    'energy_label',\n",
    "    'residential',\n",
    "    'assembly',\n",
    "    'business',\n",
    "    'educational',\n",
    "    'industrial',\n",
    "    'institutional',\n",
    "    'mercantile',\n",
    "    'storage',\n",
    "    'other'\n",
    "]].to_csv(BUILDINGS_DIR.joinpath(\"buildinfs_filtered_metadata.csv\"), index=False)"
   ]
  },
  {
   "attachments": {},
   "cell_type": "markdown",
   "metadata": {},
   "source": [
    "#### Cleaning roofs"
   ]
  },
  {
   "cell_type": "code",
   "execution_count": 270,
   "metadata": {},
   "outputs": [],
   "source": [
    "roofs_number = roofs_data.shape[0]"
   ]
  },
  {
   "cell_type": "code",
   "execution_count": 307,
   "metadata": {},
   "outputs": [],
   "source": [
    "roofs_area = roofs_data[ROOF_AREA].sum()"
   ]
  },
  {
   "cell_type": "code",
   "execution_count": 271,
   "metadata": {},
   "outputs": [],
   "source": [
    "roofs_data_filtered = roofs_data[roofs_data[ETAK_ID].isin(etak_ids_filtered)]"
   ]
  },
  {
   "cell_type": "code",
   "execution_count": 272,
   "metadata": {},
   "outputs": [
    {
     "data": {
      "text/plain": [
       "(17543,)"
      ]
     },
     "execution_count": 272,
     "metadata": {},
     "output_type": "execute_result"
    }
   ],
   "source": [
    "roofs_data_filtered[ETAK_ID].unique().shape"
   ]
  },
  {
   "cell_type": "code",
   "execution_count": 273,
   "metadata": {},
   "outputs": [
    {
     "data": {
      "text/html": [
       "<div>\n",
       "<style scoped>\n",
       "    .dataframe tbody tr th:only-of-type {\n",
       "        vertical-align: middle;\n",
       "    }\n",
       "\n",
       "    .dataframe tbody tr th {\n",
       "        vertical-align: top;\n",
       "    }\n",
       "\n",
       "    .dataframe thead th {\n",
       "        text-align: right;\n",
       "    }\n",
       "</style>\n",
       "<table border=\"1\" class=\"dataframe\">\n",
       "  <thead>\n",
       "    <tr style=\"text-align: right;\">\n",
       "      <th></th>\n",
       "      <th>roof_id</th>\n",
       "      <th>tilt</th>\n",
       "      <th>azimuth</th>\n",
       "      <th>roof_area</th>\n",
       "      <th>azimuth_new</th>\n",
       "    </tr>\n",
       "  </thead>\n",
       "  <tbody>\n",
       "    <tr>\n",
       "      <th>count</th>\n",
       "      <td>74896.000000</td>\n",
       "      <td>74896.000000</td>\n",
       "      <td>74896.000000</td>\n",
       "      <td>74896.000000</td>\n",
       "      <td>74895.000000</td>\n",
       "    </tr>\n",
       "    <tr>\n",
       "      <th>mean</th>\n",
       "      <td>39742.382544</td>\n",
       "      <td>23.959185</td>\n",
       "      <td>-5.122990</td>\n",
       "      <td>65.288424</td>\n",
       "      <td>-0.886557</td>\n",
       "    </tr>\n",
       "    <tr>\n",
       "      <th>std</th>\n",
       "      <td>22947.799274</td>\n",
       "      <td>18.817558</td>\n",
       "      <td>102.025218</td>\n",
       "      <td>164.845888</td>\n",
       "      <td>104.498908</td>\n",
       "    </tr>\n",
       "    <tr>\n",
       "      <th>min</th>\n",
       "      <td>2.000000</td>\n",
       "      <td>0.000000</td>\n",
       "      <td>-180.000000</td>\n",
       "      <td>2.003090</td>\n",
       "      <td>-180.000000</td>\n",
       "    </tr>\n",
       "    <tr>\n",
       "      <th>25%</th>\n",
       "      <td>19841.750000</td>\n",
       "      <td>7.881750</td>\n",
       "      <td>-90.000000</td>\n",
       "      <td>13.145986</td>\n",
       "      <td>-91.403226</td>\n",
       "    </tr>\n",
       "    <tr>\n",
       "      <th>50%</th>\n",
       "      <td>39776.500000</td>\n",
       "      <td>20.650500</td>\n",
       "      <td>-2.060934</td>\n",
       "      <td>30.172782</td>\n",
       "      <td>-4.964234</td>\n",
       "    </tr>\n",
       "    <tr>\n",
       "      <th>75%</th>\n",
       "      <td>59588.250000</td>\n",
       "      <td>37.903000</td>\n",
       "      <td>85.800676</td>\n",
       "      <td>62.137857</td>\n",
       "      <td>87.220998</td>\n",
       "    </tr>\n",
       "    <tr>\n",
       "      <th>max</th>\n",
       "      <td>79443.000000</td>\n",
       "      <td>89.975000</td>\n",
       "      <td>180.000000</td>\n",
       "      <td>9387.990723</td>\n",
       "      <td>180.000000</td>\n",
       "    </tr>\n",
       "  </tbody>\n",
       "</table>\n",
       "</div>"
      ],
      "text/plain": [
       "            roof_id          tilt       azimuth     roof_area   azimuth_new\n",
       "count  74896.000000  74896.000000  74896.000000  74896.000000  74895.000000\n",
       "mean   39742.382544     23.959185     -5.122990     65.288424     -0.886557\n",
       "std    22947.799274     18.817558    102.025218    164.845888    104.498908\n",
       "min        2.000000      0.000000   -180.000000      2.003090   -180.000000\n",
       "25%    19841.750000      7.881750    -90.000000     13.145986    -91.403226\n",
       "50%    39776.500000     20.650500     -2.060934     30.172782     -4.964234\n",
       "75%    59588.250000     37.903000     85.800676     62.137857     87.220998\n",
       "max    79443.000000     89.975000    180.000000   9387.990723    180.000000"
      ]
     },
     "execution_count": 273,
     "metadata": {},
     "output_type": "execute_result"
    }
   ],
   "source": [
    "roofs_data_filtered.describe()"
   ]
  },
  {
   "cell_type": "code",
   "execution_count": 274,
   "metadata": {},
   "outputs": [
    {
     "data": {
      "image/png": "[encoded data removed]",
      "text/plain": [
       "<Figure size 1000x500 with 1 Axes>"
      ]
     },
     "metadata": {},
     "output_type": "display_data"
    }
   ],
   "source": [
    "utils.plot_hist(roofs_data_filtered[TILT], 'Tilt distribution', 'Tilt', 'Frequency', bins=100)"
   ]
  },
  {
   "cell_type": "code",
   "execution_count": 275,
   "metadata": {},
   "outputs": [
    {
     "name": "stdout",
     "output_type": "stream",
     "text": [
      "The percentage of steep roofs 3.27%\n"
     ]
    }
   ],
   "source": [
    "print(f\"The percentage of steep roofs {roofs_data_filtered[roofs_data_filtered[TILT] > 60].shape[0] / roofs_data_filtered.shape[0] * 100:.2f}%\")"
   ]
  },
  {
   "cell_type": "code",
   "execution_count": 276,
   "metadata": {},
   "outputs": [],
   "source": [
    "roofs_data_filtered = roofs_data_filtered[roofs_data_filtered[TILT] <= 60]"
   ]
  },
  {
   "cell_type": "code",
   "execution_count": 277,
   "metadata": {},
   "outputs": [
    {
     "data": {
      "text/html": [
       "<div>\n",
       "<style scoped>\n",
       "    .dataframe tbody tr th:only-of-type {\n",
       "        vertical-align: middle;\n",
       "    }\n",
       "\n",
       "    .dataframe tbody tr th {\n",
       "        vertical-align: top;\n",
       "    }\n",
       "\n",
       "    .dataframe thead th {\n",
       "        text-align: right;\n",
       "    }\n",
       "</style>\n",
       "<table border=\"1\" class=\"dataframe\">\n",
       "  <thead>\n",
       "    <tr style=\"text-align: right;\">\n",
       "      <th></th>\n",
       "      <th>roof_id</th>\n",
       "      <th>tilt</th>\n",
       "      <th>azimuth</th>\n",
       "      <th>roof_area</th>\n",
       "      <th>azimuth_new</th>\n",
       "    </tr>\n",
       "  </thead>\n",
       "  <tbody>\n",
       "    <tr>\n",
       "      <th>count</th>\n",
       "      <td>72446.000000</td>\n",
       "      <td>72446.000000</td>\n",
       "      <td>72446.000000</td>\n",
       "      <td>72446.000000</td>\n",
       "      <td>72445.000000</td>\n",
       "    </tr>\n",
       "    <tr>\n",
       "      <th>mean</th>\n",
       "      <td>39737.570259</td>\n",
       "      <td>22.183004</td>\n",
       "      <td>-5.214876</td>\n",
       "      <td>66.510806</td>\n",
       "      <td>-1.139529</td>\n",
       "    </tr>\n",
       "    <tr>\n",
       "      <th>std</th>\n",
       "      <td>22947.389314</td>\n",
       "      <td>16.326522</td>\n",
       "      <td>101.946614</td>\n",
       "      <td>167.283369</td>\n",
       "      <td>104.499842</td>\n",
       "    </tr>\n",
       "    <tr>\n",
       "      <th>min</th>\n",
       "      <td>2.000000</td>\n",
       "      <td>0.000000</td>\n",
       "      <td>-180.000000</td>\n",
       "      <td>2.003090</td>\n",
       "      <td>-180.000000</td>\n",
       "    </tr>\n",
       "    <tr>\n",
       "      <th>25%</th>\n",
       "      <td>19823.500000</td>\n",
       "      <td>7.453000</td>\n",
       "      <td>-90.000000</td>\n",
       "      <td>13.559419</td>\n",
       "      <td>-91.499547</td>\n",
       "    </tr>\n",
       "    <tr>\n",
       "      <th>50%</th>\n",
       "      <td>39758.500000</td>\n",
       "      <td>19.778000</td>\n",
       "      <td>-2.160059</td>\n",
       "      <td>30.782643</td>\n",
       "      <td>-5.163361</td>\n",
       "    </tr>\n",
       "    <tr>\n",
       "      <th>75%</th>\n",
       "      <td>59595.500000</td>\n",
       "      <td>35.817500</td>\n",
       "      <td>85.479145</td>\n",
       "      <td>63.025971</td>\n",
       "      <td>87.064327</td>\n",
       "    </tr>\n",
       "    <tr>\n",
       "      <th>max</th>\n",
       "      <td>79443.000000</td>\n",
       "      <td>59.997000</td>\n",
       "      <td>180.000000</td>\n",
       "      <td>9387.990723</td>\n",
       "      <td>180.000000</td>\n",
       "    </tr>\n",
       "  </tbody>\n",
       "</table>\n",
       "</div>"
      ],
      "text/plain": [
       "            roof_id          tilt       azimuth     roof_area   azimuth_new\n",
       "count  72446.000000  72446.000000  72446.000000  72446.000000  72445.000000\n",
       "mean   39737.570259     22.183004     -5.214876     66.510806     -1.139529\n",
       "std    22947.389314     16.326522    101.946614    167.283369    104.499842\n",
       "min        2.000000      0.000000   -180.000000      2.003090   -180.000000\n",
       "25%    19823.500000      7.453000    -90.000000     13.559419    -91.499547\n",
       "50%    39758.500000     19.778000     -2.160059     30.782643     -5.163361\n",
       "75%    59595.500000     35.817500     85.479145     63.025971     87.064327\n",
       "max    79443.000000     59.997000    180.000000   9387.990723    180.000000"
      ]
     },
     "execution_count": 277,
     "metadata": {},
     "output_type": "execute_result"
    }
   ],
   "source": [
    "roofs_data_filtered.describe()"
   ]
  },
  {
   "cell_type": "code",
   "execution_count": 278,
   "metadata": {},
   "outputs": [
    {
     "data": {
      "text/html": [
       "<div>\n",
       "<style scoped>\n",
       "    .dataframe tbody tr th:only-of-type {\n",
       "        vertical-align: middle;\n",
       "    }\n",
       "\n",
       "    .dataframe tbody tr th {\n",
       "        vertical-align: top;\n",
       "    }\n",
       "\n",
       "    .dataframe thead th {\n",
       "        text-align: right;\n",
       "    }\n",
       "</style>\n",
       "<table border=\"1\" class=\"dataframe\">\n",
       "  <thead>\n",
       "    <tr style=\"text-align: right;\">\n",
       "      <th></th>\n",
       "      <th>etak_id</th>\n",
       "      <th>roof_id</th>\n",
       "      <th>tilt</th>\n",
       "      <th>azimuth</th>\n",
       "      <th>orientation</th>\n",
       "      <th>roof_area</th>\n",
       "      <th>points</th>\n",
       "      <th>azimuth_new</th>\n",
       "      <th>orientation_new</th>\n",
       "    </tr>\n",
       "  </thead>\n",
       "  <tbody>\n",
       "    <tr>\n",
       "      <th>24593</th>\n",
       "      <td>721220</td>\n",
       "      <td>24594</td>\n",
       "      <td>0.0</td>\n",
       "      <td>-90.0</td>\n",
       "      <td>none</td>\n",
       "      <td>16.751953</td>\n",
       "      <td>[[6471202.41, 662571.64, 2.740000000000002], [...</td>\n",
       "      <td>NaN</td>\n",
       "      <td>none</td>\n",
       "    </tr>\n",
       "  </tbody>\n",
       "</table>\n",
       "</div>"
      ],
      "text/plain": [
       "      etak_id  roof_id  tilt  azimuth orientation  roof_area  \\\n",
       "24593  721220    24594   0.0    -90.0        none  16.751953   \n",
       "\n",
       "                                                  points  azimuth_new  \\\n",
       "24593  [[6471202.41, 662571.64, 2.740000000000002], [...          NaN   \n",
       "\n",
       "      orientation_new  \n",
       "24593            none  "
      ]
     },
     "execution_count": 278,
     "metadata": {},
     "output_type": "execute_result"
    }
   ],
   "source": [
    "roofs_data_filtered[roofs_data_filtered[AZIMUTH_NEW].isna()]"
   ]
  },
  {
   "cell_type": "code",
   "execution_count": 279,
   "metadata": {},
   "outputs": [],
   "source": [
    "roofs_data_filtered.loc[24593, AZIMUTH_NEW] = roofs_data_filtered.loc[24593, AZIMUTH]"
   ]
  },
  {
   "cell_type": "code",
   "execution_count": 280,
   "metadata": {},
   "outputs": [
    {
     "name": "stdout",
     "output_type": "stream",
     "text": [
      "<class 'pandas.core.frame.DataFrame'>\n",
      "Index: 72446 entries, 1 to 79442\n",
      "Data columns (total 9 columns):\n",
      " #   Column           Non-Null Count  Dtype  \n",
      "---  ------           --------------  -----  \n",
      " 0   etak_id          72446 non-null  object \n",
      " 1   roof_id          72446 non-null  int64  \n",
      " 2   tilt             72446 non-null  float64\n",
      " 3   azimuth          72446 non-null  float64\n",
      " 4   orientation      72446 non-null  object \n",
      " 5   roof_area        72446 non-null  float64\n",
      " 6   points           72446 non-null  object \n",
      " 7   azimuth_new      72446 non-null  float64\n",
      " 8   orientation_new  72446 non-null  object \n",
      "dtypes: float64(4), int64(1), object(4)\n",
      "memory usage: 7.5+ MB\n"
     ]
    }
   ],
   "source": [
    "roofs_data_filtered.info()"
   ]
  },
  {
   "cell_type": "code",
   "execution_count": 281,
   "metadata": {},
   "outputs": [
    {
     "data": {
      "text/plain": [
       "79443"
      ]
     },
     "execution_count": 281,
     "metadata": {},
     "output_type": "execute_result"
    }
   ],
   "source": [
    "roofs_number"
   ]
  },
  {
   "cell_type": "code",
   "execution_count": 282,
   "metadata": {},
   "outputs": [
    {
     "data": {
      "text/plain": [
       "(72446, 9)"
      ]
     },
     "execution_count": 282,
     "metadata": {},
     "output_type": "execute_result"
    }
   ],
   "source": [
    "roofs_data_filtered.shape"
   ]
  },
  {
   "cell_type": "code",
   "execution_count": 283,
   "metadata": {},
   "outputs": [
    {
     "data": {
      "text/plain": [
       "tilt    azimuth_new\n",
       "0.000   -180.000000     106\n",
       "        -90.000000     1438\n",
       "         0.000000       107\n",
       "0.009   -155.796736       1\n",
       "0.010   -2.501165         1\n",
       "                       ... \n",
       "59.977  -32.752158        1\n",
       "59.978  -147.462849       1\n",
       "59.979  -128.576076       1\n",
       "59.982   79.359380        1\n",
       "59.997  -50.716834        1\n",
       "Length: 70793, dtype: int64"
      ]
     },
     "execution_count": 283,
     "metadata": {},
     "output_type": "execute_result"
    }
   ],
   "source": [
    "roofs_data_filtered.groupby([TILT, AZIMUTH_NEW]).size()"
   ]
  },
  {
   "cell_type": "code",
   "execution_count": 284,
   "metadata": {},
   "outputs": [
    {
     "name": "stdout",
     "output_type": "stream",
     "text": [
      "<class 'pandas.core.frame.DataFrame'>\n",
      "Index: 72446 entries, 1 to 79442\n",
      "Data columns (total 9 columns):\n",
      " #   Column           Non-Null Count  Dtype  \n",
      "---  ------           --------------  -----  \n",
      " 0   etak_id          72446 non-null  object \n",
      " 1   roof_id          72446 non-null  int64  \n",
      " 2   tilt             72446 non-null  float64\n",
      " 3   azimuth          72446 non-null  float64\n",
      " 4   orientation      72446 non-null  object \n",
      " 5   roof_area        72446 non-null  float64\n",
      " 6   points           72446 non-null  object \n",
      " 7   azimuth_new      72446 non-null  float64\n",
      " 8   orientation_new  72446 non-null  object \n",
      "dtypes: float64(4), int64(1), object(4)\n",
      "memory usage: 7.5+ MB\n"
     ]
    }
   ],
   "source": [
    "roofs_data_filtered.info()"
   ]
  },
  {
   "cell_type": "code",
   "execution_count": 285,
   "metadata": {},
   "outputs": [],
   "source": [
    "roofs_data_filtered[TILT + \"_rounded\"] = roofs_data_filtered[TILT].round().astype(int)\n",
    "roofs_data_filtered[AZIMUTH_NEW + \"_rounded\"] = roofs_data_filtered[AZIMUTH_NEW].round().astype(int)"
   ]
  },
  {
   "cell_type": "code",
   "execution_count": 286,
   "metadata": {},
   "outputs": [
    {
     "data": {
      "text/plain": [
       "tilt_rounded  azimuth_new_rounded\n",
       "0             -180                   111\n",
       "              -179                     5\n",
       "              -178                     4\n",
       "              -177                     8\n",
       "              -176                     8\n",
       "                                    ... \n",
       "60             154                     1\n",
       "               172                     1\n",
       "               174                     2\n",
       "               175                     2\n",
       "               177                     2\n",
       "Length: 18570, dtype: int64"
      ]
     },
     "execution_count": 286,
     "metadata": {},
     "output_type": "execute_result"
    }
   ],
   "source": [
    "roofs_data_filtered.groupby([TILT + \"_rounded\", AZIMUTH_NEW + \"_rounded\"]).size()"
   ]
  },
  {
   "cell_type": "code",
   "execution_count": 173,
   "metadata": {},
   "outputs": [],
   "source": [
    "roofs_data_filtered.to_csv(ROOFS_DIR.joinpath(\"roofs_data_cleaned.csv\"), index=False)"
   ]
  },
  {
   "cell_type": "code",
   "execution_count": 287,
   "metadata": {},
   "outputs": [],
   "source": [
    "roofs_data_azimuth_filtered = roofs_data_filtered[(roofs_data_filtered[AZIMUTH_NEW] >= -90) & (roofs_data_filtered[AZIMUTH_NEW] <= 90) | (roofs_data_filtered[ORIENTATION_NEW] == NONE)].copy()"
   ]
  },
  {
   "cell_type": "code",
   "execution_count": 288,
   "metadata": {},
   "outputs": [
    {
     "data": {
      "text/plain": [
       "orientation_new\n",
       "none     21705\n",
       "south    12989\n",
       "north    12810\n",
       "east     12786\n",
       "west     12156\n",
       "Name: count, dtype: int64"
      ]
     },
     "execution_count": 288,
     "metadata": {},
     "output_type": "execute_result"
    }
   ],
   "source": [
    "roofs_data_filtered[ORIENTATION_NEW].value_counts()"
   ]
  },
  {
   "cell_type": "code",
   "execution_count": 289,
   "metadata": {},
   "outputs": [
    {
     "data": {
      "text/plain": [
       "orientation_new\n",
       "none     21705\n",
       "south    12989\n",
       "west      6828\n",
       "east      5840\n",
       "Name: count, dtype: int64"
      ]
     },
     "execution_count": 289,
     "metadata": {},
     "output_type": "execute_result"
    }
   ],
   "source": [
    "roofs_data_azimuth_filtered[ORIENTATION_NEW].value_counts()"
   ]
  },
  {
   "cell_type": "code",
   "execution_count": 290,
   "metadata": {},
   "outputs": [],
   "source": [
    "roofs_data_azimuth_filtered[POINTS] = roofs_data_azimuth_filtered[POINTS].apply(lambda x: ast.literal_eval(x))\n"
   ]
  },
  {
   "cell_type": "code",
   "execution_count": 291,
   "metadata": {},
   "outputs": [],
   "source": [
    "roofs_data_azimuth_filtered[POLYGON] = roofs_data_azimuth_filtered.apply(utils.create_polygon, axis=1)\n"
   ]
  },
  {
   "cell_type": "code",
   "execution_count": 292,
   "metadata": {},
   "outputs": [],
   "source": [
    "roofs_data_azimuth_filtered = roofs_data_azimuth_filtered[roofs_data_azimuth_filtered[POLYGON].apply(lambda polygon: polygon.is_valid)]"
   ]
  },
  {
   "cell_type": "code",
   "execution_count": 293,
   "metadata": {},
   "outputs": [
    {
     "data": {
      "text/plain": [
       "47280"
      ]
     },
     "execution_count": 293,
     "metadata": {},
     "output_type": "execute_result"
    }
   ],
   "source": [
    "roofs_data_azimuth_filtered.shape[0]"
   ]
  },
  {
   "cell_type": "code",
   "execution_count": 294,
   "metadata": {},
   "outputs": [
    {
     "data": {
      "text/plain": [
       "Index(['etak_id', 'roof_id', 'tilt', 'azimuth', 'orientation', 'roof_area',\n",
       "       'points', 'azimuth_new', 'orientation_new', 'tilt_rounded',\n",
       "       'azimuth_new_rounded', 'polygon'],\n",
       "      dtype='object')"
      ]
     },
     "execution_count": 294,
     "metadata": {},
     "output_type": "execute_result"
    }
   ],
   "source": [
    "roofs_data_azimuth_filtered.columns"
   ]
  },
  {
   "cell_type": "code",
   "execution_count": 295,
   "metadata": {},
   "outputs": [],
   "source": [
    "roofs_data_filtered_final = roofs_data_azimuth_filtered.groupby([ETAK_ID, ORIENTATION_NEW]).apply(utils.filter_roofs_by_coordnates).reset_index(drop=True)"
   ]
  },
  {
   "cell_type": "code",
   "execution_count": 304,
   "metadata": {},
   "outputs": [
    {
     "data": {
      "text/plain": [
       "45993"
      ]
     },
     "execution_count": 304,
     "metadata": {},
     "output_type": "execute_result"
    }
   ],
   "source": [
    "filtered_roofs_number = roofs_data_filtered_final.shape[0]\n",
    "filtered_roofs_number"
   ]
  },
  {
   "cell_type": "code",
   "execution_count": 297,
   "metadata": {},
   "outputs": [
    {
     "data": {
      "text/plain": [
       "tilt    azimuth_new\n",
       "0.000   -180.000000     101\n",
       "        -90.000000     1353\n",
       "         0.000000       103\n",
       "0.009   -155.796736       1\n",
       "0.010   -2.501165         1\n",
       "                       ... \n",
       "59.952   53.387034        1\n",
       "59.975  -86.054814        1\n",
       "59.977  -32.752158        1\n",
       "59.982   79.359380        1\n",
       "59.997  -50.716834        1\n",
       "Length: 44435, dtype: int64"
      ]
     },
     "execution_count": 297,
     "metadata": {},
     "output_type": "execute_result"
    }
   ],
   "source": [
    "roofs_data_filtered_final.groupby([TILT, AZIMUTH_NEW]).size()"
   ]
  },
  {
   "cell_type": "code",
   "execution_count": 305,
   "metadata": {},
   "outputs": [
    {
     "name": "stdout",
     "output_type": "stream",
     "text": [
      "42.11% of roofs were filtered out\n"
     ]
    }
   ],
   "source": [
    "print(f\"{(1 - (filtered_roofs_number / roofs_number)) * 100:.2f}% of roofs were filtered out\")"
   ]
  },
  {
   "cell_type": "code",
   "execution_count": 308,
   "metadata": {},
   "outputs": [],
   "source": [
    "filtered_roofs_area = roofs_data_filtered_final[ROOF_AREA].sum()"
   ]
  },
  {
   "cell_type": "code",
   "execution_count": 309,
   "metadata": {},
   "outputs": [
    {
     "name": "stdout",
     "output_type": "stream",
     "text": [
      "29.86% of roofs area filtered out\n"
     ]
    }
   ],
   "source": [
    "print(f\"{(1 - (filtered_roofs_area / roofs_area)) * 100:.2f}% of roofs area filtered out\")"
   ]
  },
  {
   "cell_type": "code",
   "execution_count": 299,
   "metadata": {},
   "outputs": [
    {
     "data": {
      "text/plain": [
       "tilt_rounded  azimuth_new_rounded\n",
       "0             -180                   105\n",
       "              -179                     5\n",
       "              -178                     4\n",
       "              -177                     8\n",
       "              -176                     8\n",
       "                                    ... \n",
       "60             52                      1\n",
       "               53                      1\n",
       "               78                      1\n",
       "               79                      1\n",
       "               84                      1\n",
       "Length: 11211, dtype: int64"
      ]
     },
     "execution_count": 299,
     "metadata": {},
     "output_type": "execute_result"
    }
   ],
   "source": [
    "roofs_data_filtered_final.groupby([TILT + \"_rounded\", AZIMUTH_NEW + \"_rounded\"]).size()"
   ]
  },
  {
   "cell_type": "code",
   "execution_count": 300,
   "metadata": {},
   "outputs": [
    {
     "data": {
      "text/html": [
       "<div>\n",
       "<style scoped>\n",
       "    .dataframe tbody tr th:only-of-type {\n",
       "        vertical-align: middle;\n",
       "    }\n",
       "\n",
       "    .dataframe tbody tr th {\n",
       "        vertical-align: top;\n",
       "    }\n",
       "\n",
       "    .dataframe thead th {\n",
       "        text-align: right;\n",
       "    }\n",
       "</style>\n",
       "<table border=\"1\" class=\"dataframe\">\n",
       "  <thead>\n",
       "    <tr style=\"text-align: right;\">\n",
       "      <th></th>\n",
       "      <th>etak_id</th>\n",
       "      <th>roof_id</th>\n",
       "      <th>tilt</th>\n",
       "      <th>azimuth</th>\n",
       "      <th>orientation</th>\n",
       "      <th>roof_area</th>\n",
       "      <th>points</th>\n",
       "      <th>azimuth_new</th>\n",
       "      <th>orientation_new</th>\n",
       "      <th>tilt_rounded</th>\n",
       "      <th>azimuth_new_rounded</th>\n",
       "      <th>polygon</th>\n",
       "    </tr>\n",
       "  </thead>\n",
       "  <tbody>\n",
       "    <tr>\n",
       "      <th>0</th>\n",
       "      <td>333302</td>\n",
       "      <td>60414</td>\n",
       "      <td>46.534</td>\n",
       "      <td>-26.2764</td>\n",
       "      <td>south</td>\n",
       "      <td>51.830155</td>\n",
       "      <td>[[6481314.09, 652658.48, 5.910000000000004], [...</td>\n",
       "      <td>-63.7236</td>\n",
       "      <td>east</td>\n",
       "      <td>47</td>\n",
       "      <td>-64</td>\n",
       "      <td>POLYGON ((652658.48 6481314.09, 652661.54 6481...</td>\n",
       "    </tr>\n",
       "  </tbody>\n",
       "</table>\n",
       "</div>"
      ],
      "text/plain": [
       "  etak_id  roof_id    tilt  azimuth orientation  roof_area  \\\n",
       "0  333302    60414  46.534 -26.2764       south  51.830155   \n",
       "\n",
       "                                              points  azimuth_new  \\\n",
       "0  [[6481314.09, 652658.48, 5.910000000000004], [...     -63.7236   \n",
       "\n",
       "  orientation_new  tilt_rounded  azimuth_new_rounded  \\\n",
       "0            east            47                  -64   \n",
       "\n",
       "                                             polygon  \n",
       "0  POLYGON ((652658.48 6481314.09, 652661.54 6481...  "
      ]
     },
     "execution_count": 300,
     "metadata": {},
     "output_type": "execute_result"
    }
   ],
   "source": [
    "roofs_data_filtered_final.head(1)"
   ]
  },
  {
   "cell_type": "code",
   "execution_count": 301,
   "metadata": {},
   "outputs": [],
   "source": [
    "roofs_data_filtered_final.drop(columns=[TILT, AZIMUTH, ORIENTATION, POLYGON], inplace=True)\n",
    "roofs_data_filtered_final.rename(columns={AZIMUTH_NEW + \"_rounded\": AZIMUTH}, inplace=True)\n",
    "roofs_data_filtered_final.drop(columns=[AZIMUTH_NEW], inplace=True)\n",
    "roofs_data_filtered_final.rename(columns={TILT + \"_rounded\": TILT}, inplace=True)\n",
    "roofs_data_filtered_final.rename(columns={ORIENTATION_NEW: ORIENTATION}, inplace=True)"
   ]
  },
  {
   "cell_type": "code",
   "execution_count": 302,
   "metadata": {},
   "outputs": [
    {
     "data": {
      "text/html": [
       "<div>\n",
       "<style scoped>\n",
       "    .dataframe tbody tr th:only-of-type {\n",
       "        vertical-align: middle;\n",
       "    }\n",
       "\n",
       "    .dataframe tbody tr th {\n",
       "        vertical-align: top;\n",
       "    }\n",
       "\n",
       "    .dataframe thead th {\n",
       "        text-align: right;\n",
       "    }\n",
       "</style>\n",
       "<table border=\"1\" class=\"dataframe\">\n",
       "  <thead>\n",
       "    <tr style=\"text-align: right;\">\n",
       "      <th></th>\n",
       "      <th>etak_id</th>\n",
       "      <th>roof_id</th>\n",
       "      <th>roof_area</th>\n",
       "      <th>points</th>\n",
       "      <th>orientation</th>\n",
       "      <th>tilt</th>\n",
       "      <th>azimuth</th>\n",
       "    </tr>\n",
       "  </thead>\n",
       "  <tbody>\n",
       "    <tr>\n",
       "      <th>0</th>\n",
       "      <td>333302</td>\n",
       "      <td>60414</td>\n",
       "      <td>51.830155</td>\n",
       "      <td>[[6481314.09, 652658.48, 5.910000000000004], [...</td>\n",
       "      <td>east</td>\n",
       "      <td>47</td>\n",
       "      <td>-64</td>\n",
       "    </tr>\n",
       "  </tbody>\n",
       "</table>\n",
       "</div>"
      ],
      "text/plain": [
       "  etak_id  roof_id  roof_area  \\\n",
       "0  333302    60414  51.830155   \n",
       "\n",
       "                                              points orientation  tilt  \\\n",
       "0  [[6481314.09, 652658.48, 5.910000000000004], [...        east    47   \n",
       "\n",
       "   azimuth  \n",
       "0      -64  "
      ]
     },
     "execution_count": 302,
     "metadata": {},
     "output_type": "execute_result"
    }
   ],
   "source": [
    "roofs_data_filtered_final.head(1)"
   ]
  },
  {
   "cell_type": "code",
   "execution_count": 303,
   "metadata": {},
   "outputs": [
    {
     "data": {
      "text/plain": [
       "16757"
      ]
     },
     "execution_count": 303,
     "metadata": {},
     "output_type": "execute_result"
    }
   ],
   "source": [
    "roofs_data_filtered_final[ETAK_ID].unique().size"
   ]
  },
  {
   "cell_type": "code",
   "execution_count": 239,
   "metadata": {},
   "outputs": [],
   "source": [
    "roofs_data_filtered_final.to_csv(ROOFS_FILTERED_PATH, index=False)"
   ]
  },
  {
   "attachments": {},
   "cell_type": "markdown",
   "metadata": {},
   "source": [
    "### Production recalculation and comparison with real data"
   ]
  },
  {
   "cell_type": "code",
   "execution_count": null,
   "metadata": {},
   "outputs": [],
   "source": [
    "await pvgis_requests_processing.main(ROOFS_FILTERED_PATH, TARTU_LAT, TARTU_LON, EFFICIENCY, LOSS)\n"
   ]
  },
  {
   "cell_type": "code",
   "execution_count": 221,
   "metadata": {},
   "outputs": [],
   "source": [
    "roofs_estimated_production = pd.read_csv(ROOFS_DIR.joinpath(\"estimated_production.csv\"))"
   ]
  },
  {
   "cell_type": "code",
   "execution_count": 222,
   "metadata": {},
   "outputs": [],
   "source": [
    "buildings_estimated_production = roofs_estimated_production.groupby(ETAK_ID).agg({\n",
    "    ANNUAL_KWH_PV_M2: 'mean',\n",
    "    YY_VARIATION_PV_M2: 'mean',\n",
    "    MONTHLY_AVERAGE_KWH_PV_M2: 'mean',\n",
    "    ROOF_AREA: 'sum',\n",
    "    **{col: 'mean' for col in MONTHS_ABBR_UNITS_PV_M2}\n",
    "})\n"
   ]
  },
  {
   "cell_type": "code",
   "execution_count": 223,
   "metadata": {},
   "outputs": [],
   "source": [
    "buildings_estimated_production.rename(columns={ROOF_AREA: \"pv_suitable_area\"}, inplace=True)\n",
    "buildings_estimated_production.reset_index(inplace=True)"
   ]
  },
  {
   "cell_type": "code",
   "execution_count": 224,
   "metadata": {},
   "outputs": [
    {
     "data": {
      "text/plain": [
       "(16757, 17)"
      ]
     },
     "execution_count": 224,
     "metadata": {},
     "output_type": "execute_result"
    }
   ],
   "source": [
    "buildings_estimated_production.shape"
   ]
  },
  {
   "cell_type": "code",
   "execution_count": 225,
   "metadata": {},
   "outputs": [],
   "source": [
    "buildings_estimated_production.to_csv(BUILDINGS_DIR.joinpath(\"new_estimated_prod_by_building.csv\"), index=False)"
   ]
  },
  {
   "cell_type": "code",
   "execution_count": 310,
   "metadata": {},
   "outputs": [],
   "source": [
    "real_production = pd.read_csv(DATA_DIR.joinpath(\"real_monthly_prod.csv\"))"
   ]
  },
  {
   "cell_type": "code",
   "execution_count": 311,
   "metadata": {},
   "outputs": [],
   "source": [
    "suffixes = [\"_r\", \"_e\"]\n",
    "monthly_real_prod_columns = [ETAK_ID, ADDRESS, YEAR] + MONTHS_ABBR_UNITS_PV_M2\n",
    "monthly_est_prod_columns = [ETAK_ID] + MONTHS_ABBR_UNITS_PV_M2"
   ]
  },
  {
   "cell_type": "code",
   "execution_count": 312,
   "metadata": {},
   "outputs": [],
   "source": [
    "def merge_dataframes(year, real_production_df, columns_real_prod, columns_estimated_prod):\n",
    "    production_for_year = real_production_df[real_production_df[YEAR] == year]\n",
    "    return production_for_year[columns_real_prod].merge(\n",
    "        buildings_estimated_production[columns_estimated_prod], \n",
    "        how=\"left\", \n",
    "        on=ETAK_ID, \n",
    "        suffixes=suffixes\n",
    "    )\n",
    "\n",
    "merged_monthly_production_2022 = merge_dataframes(\n",
    "    2022,\n",
    "    real_production,\n",
    "    monthly_real_prod_columns,\n",
    "    monthly_est_prod_columns\n",
    ")\n"
   ]
  },
  {
   "cell_type": "code",
   "execution_count": 313,
   "metadata": {},
   "outputs": [],
   "source": [
    "seasons = [\"Winter\", \"Spring\", \"Summer\", \"Autumn\"]\n",
    "\n",
    "labels = []\n",
    "for abbr in [MONTHS_ABBR_UNITS_PV_M2[-1]] + MONTHS_ABBR_UNITS_PV_M2[0:-1]:\n",
    "    labels.append(abbr + suffixes[0])\n",
    "    labels.append(abbr + suffixes[1])\n"
   ]
  },
  {
   "cell_type": "code",
   "execution_count": 314,
   "metadata": {},
   "outputs": [],
   "source": [
    "def construct_comparison_csv():\n",
    "    for i in range(len(seasons)):\n",
    "        with open(f\"{DATA_DIR.joinpath('output/prod_comparison_new.csv')}\", 'a') as file:\n",
    "            file.write(f\"\\n{seasons[i]} 2022\\n\")\n",
    "        columns = [ETAK_ID, ADDRESS, YEAR] + labels[i*6:(i+1)*6]\n",
    "        merged_monthly_production_2022[columns].to_csv(\n",
    "            DATA_DIR.joinpath('output/prod_comparison_new.csv'),\n",
    "            mode='a',\n",
    "            header=True,\n",
    "            index=False,\n",
    "            na_rep=\"NaN\"\n",
    "        )\n",
    "            \n",
    "construct_comparison_csv()\n"
   ]
  },
  {
   "cell_type": "code",
   "execution_count": 81,
   "metadata": {},
   "outputs": [],
   "source": [
    "merged_monthly_production_nan_filled = merged_monthly_production_2022[labels].fillna(merged_monthly_production_2022[labels].mean())"
   ]
  },
  {
   "cell_type": "code",
   "execution_count": 82,
   "metadata": {},
   "outputs": [
    {
     "name": "stdout",
     "output_type": "stream",
     "text": [
      "Cannot calculate MAPE for season Winter due to the error Input contains NaN.\n",
      "MAPE for Spring: 12.37%\n",
      "MAPE for Summer: 13.01%\n",
      "MAPE for Autumn: 18.74%\n"
     ]
    }
   ],
   "source": [
    "for i in range(len(seasons)):\n",
    "    columns = labels[i*6:(i+1)*6]\n",
    "    seasonal_real_prod = merged_monthly_production_nan_filled[columns[0]] + merged_monthly_production_nan_filled[columns[2]] + merged_monthly_production_nan_filled[columns[4]]\n",
    "    seasonal_estimated_prod = merged_monthly_production_nan_filled[columns[1]] + merged_monthly_production_nan_filled[columns[3]] + merged_monthly_production_nan_filled[columns[5]]\n",
    "    try:\n",
    "        print(f\"MAPE for {seasons[i]}: {mean_absolute_percentage_error(seasonal_real_prod, seasonal_estimated_prod) * 100:.2f}%\")\n",
    "    except Exception as e:\n",
    "        print(f\"Cannot calculate MAPE for season {seasons[i]} due to the error {e}\") "
   ]
  },
  {
   "cell_type": "code",
   "execution_count": 83,
   "metadata": {},
   "outputs": [
    {
     "name": "stdout",
     "output_type": "stream",
     "text": [
      "MAPE for Winter: 118.05%\n"
     ]
    }
   ],
   "source": [
    "winter_real = merged_monthly_production_nan_filled[labels[2]] + merged_monthly_production_nan_filled[labels[4]]\n",
    "winter_estimated = merged_monthly_production_nan_filled[labels[3]] + merged_monthly_production_nan_filled[labels[5]]\n",
    "print(f\"MAPE for Winter: {mean_absolute_percentage_error(winter_real, winter_estimated) * 100:.2f}%\")\n"
   ]
  },
  {
   "cell_type": "code",
   "execution_count": 315,
   "metadata": {},
   "outputs": [],
   "source": [
    "real_annual_energy_production = pd.read_csv(ANNUAL_REAL_PROD)\n",
    "real_annual_energy_production[ANNUAL_KWH_PV_M2] = real_annual_energy_production[ANNUAL_KWH]\\\n",
    "    .divide(real_annual_energy_production[PV_AREA_M2], axis=0)\n",
    "\n",
    "annual_real_prod_columns = [ETAK_ID, ADDRESS, YEAR, ANNUAL_KWH_PV_M2]\n",
    "annual_est_prod_columns = [ETAK_ID, YY_VARIATION_PV_M2, ANNUAL_KWH_PV_M2]\n",
    "\n",
    "annual_pv_m2_merged_2022 = merge_dataframes(\n",
    "    2022,\n",
    "    real_annual_energy_production,\n",
    "    annual_real_prod_columns, \n",
    "    annual_est_prod_columns\n",
    ")\n"
   ]
  },
  {
   "cell_type": "code",
   "execution_count": 316,
   "metadata": {},
   "outputs": [
    {
     "data": {
      "text/html": [
       "<div>\n",
       "<style scoped>\n",
       "    .dataframe tbody tr th:only-of-type {\n",
       "        vertical-align: middle;\n",
       "    }\n",
       "\n",
       "    .dataframe tbody tr th {\n",
       "        vertical-align: top;\n",
       "    }\n",
       "\n",
       "    .dataframe thead th {\n",
       "        text-align: right;\n",
       "    }\n",
       "</style>\n",
       "<table border=\"1\" class=\"dataframe\">\n",
       "  <thead>\n",
       "    <tr style=\"text-align: right;\">\n",
       "      <th></th>\n",
       "      <th>etak_id</th>\n",
       "      <th>address</th>\n",
       "      <th>year</th>\n",
       "      <th>annual_kwh/pv_m2_r</th>\n",
       "      <th>y-y_variation/pv_m2</th>\n",
       "      <th>annual_kwh/pv_m2_e</th>\n",
       "    </tr>\n",
       "  </thead>\n",
       "  <tbody>\n",
       "    <tr>\n",
       "      <th>0</th>\n",
       "      <td>719155</td>\n",
       "      <td>Tiigi 19</td>\n",
       "      <td>2022</td>\n",
       "      <td>169.259269</td>\n",
       "      <td>7.650</td>\n",
       "      <td>155.265</td>\n",
       "    </tr>\n",
       "    <tr>\n",
       "      <th>1</th>\n",
       "      <td>716647</td>\n",
       "      <td>Tähe 2</td>\n",
       "      <td>2022</td>\n",
       "      <td>166.303082</td>\n",
       "      <td>8.215</td>\n",
       "      <td>160.530</td>\n",
       "    </tr>\n",
       "    <tr>\n",
       "      <th>2</th>\n",
       "      <td>720043</td>\n",
       "      <td>Aleksandri 3</td>\n",
       "      <td>2022</td>\n",
       "      <td>158.044050</td>\n",
       "      <td>6.460</td>\n",
       "      <td>147.650</td>\n",
       "    </tr>\n",
       "    <tr>\n",
       "      <th>3</th>\n",
       "      <td>715116</td>\n",
       "      <td>Turu 9</td>\n",
       "      <td>2022</td>\n",
       "      <td>160.651809</td>\n",
       "      <td>6.120</td>\n",
       "      <td>143.950</td>\n",
       "    </tr>\n",
       "    <tr>\n",
       "      <th>4</th>\n",
       "      <td>713413</td>\n",
       "      <td>Turu 3</td>\n",
       "      <td>2022</td>\n",
       "      <td>149.787234</td>\n",
       "      <td>8.740</td>\n",
       "      <td>164.100</td>\n",
       "    </tr>\n",
       "    <tr>\n",
       "      <th>5</th>\n",
       "      <td>720467</td>\n",
       "      <td>Pepleri 3</td>\n",
       "      <td>2022</td>\n",
       "      <td>142.088628</td>\n",
       "      <td>6.010</td>\n",
       "      <td>142.870</td>\n",
       "    </tr>\n",
       "    <tr>\n",
       "      <th>6</th>\n",
       "      <td>720239</td>\n",
       "      <td>Pepleri 12</td>\n",
       "      <td>2022</td>\n",
       "      <td>155.800780</td>\n",
       "      <td>6.050</td>\n",
       "      <td>143.230</td>\n",
       "    </tr>\n",
       "    <tr>\n",
       "      <th>7</th>\n",
       "      <td>720448</td>\n",
       "      <td>J.Kuperjanovi 2</td>\n",
       "      <td>2022</td>\n",
       "      <td>149.628635</td>\n",
       "      <td>7.160</td>\n",
       "      <td>154.670</td>\n",
       "    </tr>\n",
       "    <tr>\n",
       "      <th>8</th>\n",
       "      <td>719935</td>\n",
       "      <td>Lutsu 16</td>\n",
       "      <td>2022</td>\n",
       "      <td>107.959835</td>\n",
       "      <td>7.020</td>\n",
       "      <td>153.450</td>\n",
       "    </tr>\n",
       "    <tr>\n",
       "      <th>9</th>\n",
       "      <td>720853</td>\n",
       "      <td>Tiigi 21</td>\n",
       "      <td>2022</td>\n",
       "      <td>144.849215</td>\n",
       "      <td>6.110</td>\n",
       "      <td>143.410</td>\n",
       "    </tr>\n",
       "    <tr>\n",
       "      <th>10</th>\n",
       "      <td>720593</td>\n",
       "      <td>Tiigi 23</td>\n",
       "      <td>2022</td>\n",
       "      <td>159.073457</td>\n",
       "      <td>6.110</td>\n",
       "      <td>143.410</td>\n",
       "    </tr>\n",
       "    <tr>\n",
       "      <th>11</th>\n",
       "      <td>721107</td>\n",
       "      <td>Aleksandri 12</td>\n",
       "      <td>2022</td>\n",
       "      <td>175.618085</td>\n",
       "      <td>6.460</td>\n",
       "      <td>147.650</td>\n",
       "    </tr>\n",
       "    <tr>\n",
       "      <th>12</th>\n",
       "      <td>720592</td>\n",
       "      <td>Kalevi 8</td>\n",
       "      <td>2022</td>\n",
       "      <td>109.659405</td>\n",
       "      <td>6.460</td>\n",
       "      <td>147.570</td>\n",
       "    </tr>\n",
       "  </tbody>\n",
       "</table>\n",
       "</div>"
      ],
      "text/plain": [
       "    etak_id          address  year  annual_kwh/pv_m2_r  y-y_variation/pv_m2  \\\n",
       "0    719155         Tiigi 19  2022          169.259269                7.650   \n",
       "1    716647           Tähe 2  2022          166.303082                8.215   \n",
       "2    720043     Aleksandri 3  2022          158.044050                6.460   \n",
       "3    715116           Turu 9  2022          160.651809                6.120   \n",
       "4    713413           Turu 3  2022          149.787234                8.740   \n",
       "5    720467        Pepleri 3  2022          142.088628                6.010   \n",
       "6    720239       Pepleri 12  2022          155.800780                6.050   \n",
       "7    720448  J.Kuperjanovi 2  2022          149.628635                7.160   \n",
       "8    719935         Lutsu 16  2022          107.959835                7.020   \n",
       "9    720853         Tiigi 21  2022          144.849215                6.110   \n",
       "10   720593         Tiigi 23  2022          159.073457                6.110   \n",
       "11   721107    Aleksandri 12  2022          175.618085                6.460   \n",
       "12   720592         Kalevi 8  2022          109.659405                6.460   \n",
       "\n",
       "    annual_kwh/pv_m2_e  \n",
       "0              155.265  \n",
       "1              160.530  \n",
       "2              147.650  \n",
       "3              143.950  \n",
       "4              164.100  \n",
       "5              142.870  \n",
       "6              143.230  \n",
       "7              154.670  \n",
       "8              153.450  \n",
       "9              143.410  \n",
       "10             143.410  \n",
       "11             147.650  \n",
       "12             147.570  "
      ]
     },
     "execution_count": 316,
     "metadata": {},
     "output_type": "execute_result"
    }
   ],
   "source": [
    "annual_pv_m2_merged_2022"
   ]
  },
  {
   "cell_type": "code",
   "execution_count": 90,
   "metadata": {},
   "outputs": [
    {
     "data": {
      "text/plain": [
       "4.531199889909574"
      ]
     },
     "execution_count": 90,
     "metadata": {},
     "output_type": "execute_result"
    }
   ],
   "source": [
    "((annual_pv_m2_merged_2022[YY_VARIATION_PV_M2] / annual_pv_m2_merged_2022[ANNUAL_KWH_PV_M2 + \"_e\"]) * 100).mean()\n"
   ]
  },
  {
   "cell_type": "code",
   "execution_count": 86,
   "metadata": {},
   "outputs": [
    {
     "data": {
      "text/plain": [
       "20.645837114344772"
      ]
     },
     "execution_count": 86,
     "metadata": {},
     "output_type": "execute_result"
    }
   ],
   "source": [
    "mean_squared_error(annual_pv_m2_merged_2022[ANNUAL_KWH_PV_M2 + \"_r\"],\n",
    "                   annual_pv_m2_merged_2022[ANNUAL_KWH_PV_M2 + \"_e\"], squared=False)"
   ]
  },
  {
   "cell_type": "code",
   "execution_count": 87,
   "metadata": {},
   "outputs": [
    {
     "data": {
      "text/plain": [
       "0.11825276702252042"
      ]
     },
     "execution_count": 87,
     "metadata": {},
     "output_type": "execute_result"
    }
   ],
   "source": [
    "mean_absolute_percentage_error(annual_pv_m2_merged_2022[ANNUAL_KWH_PV_M2 + \"_r\"], annual_pv_m2_merged_2022[ANNUAL_KWH_PV_M2 + \"_e\"])"
   ]
  },
  {
   "cell_type": "code",
   "execution_count": 317,
   "metadata": {},
   "outputs": [],
   "source": [
    "annual_pv_m2_merged_2022.to_csv(DATA_DIR.joinpath(\"output/new_annual_prod_comparison_2022.csv\"), index=False)"
   ]
  }
 ],
 "metadata": {
  "kernelspec": {
   "display_name": "env",
   "language": "python",
   "name": "python3"
  },
  "language_info": {
   "codemirror_mode": {
    "name": "ipython",
    "version": 3
   },
   "file_extension": ".py",
   "mimetype": "text/x-python",
   "name": "python",
   "nbconvert_exporter": "python",
   "pygments_lexer": "ipython3",
   "version": "3.10.11"
  },
  "orig_nbformat": 4
 },
 "nbformat": 4,
 "nbformat_minor": 2
}
